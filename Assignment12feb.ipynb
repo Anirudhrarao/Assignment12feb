{
 "cells": [
  {
   "cell_type": "markdown",
   "id": "b0079653",
   "metadata": {},
   "source": [
    "### Solution (1)\n",
    "##### Exception:\n",
    "* An event occurs during execution of code and which changes the normal flow of code.\n",
    "#### Difference between Exceptions and syntax error:\n",
    "* A exception changes the flow of code but syntax error disrrupt the execution."
   ]
  },
  {
   "cell_type": "markdown",
   "id": "f91ce933",
   "metadata": {},
   "source": [
    "### Solution (2)\n",
    "* If exceptions is not handled it will crashes our code or program so it is necessary to handle.\n",
    "* in below example you can see that we taking age but i want only age below 100 if exception is not handle then it will take all the age whether it negative or zero or more than 100."
   ]
  },
  {
   "cell_type": "code",
   "execution_count": 1,
   "id": "281a6485",
   "metadata": {},
   "outputs": [],
   "source": [
    "class VaidateAge(Exception):\n",
    "    def __init__(self,msg):\n",
    "        self.msg = msg"
   ]
  },
  {
   "cell_type": "code",
   "execution_count": 2,
   "id": "1810e423",
   "metadata": {},
   "outputs": [],
   "source": [
    "def validateage(age):\n",
    "    if age < 0:\n",
    "        raise VaidateAge(\"Age should not be lesser than zero.\")\n",
    "    elif age > 100:\n",
    "        raise VaidateAge(\"Age is to high\")\n",
    "    else:\n",
    "        print(\"Age is valid\")"
   ]
  },
  {
   "cell_type": "code",
   "execution_count": 3,
   "id": "7385d083",
   "metadata": {},
   "outputs": [
    {
     "name": "stdout",
     "output_type": "stream",
     "text": [
      "Enter your age: 120\n",
      "Age is to high\n"
     ]
    }
   ],
   "source": [
    "try:\n",
    "    age = int(input(\"Enter your age: \"))\n",
    "    validateage(age)\n",
    "except VaidateAge as e:\n",
    "    print(e)"
   ]
  },
  {
   "cell_type": "markdown",
   "id": "4e665ae8",
   "metadata": {},
   "source": [
    "### Solution (3)\n",
    "* A try and except are used to catch the exceptions in python."
   ]
  },
  {
   "cell_type": "code",
   "execution_count": 4,
   "id": "8d42e186",
   "metadata": {},
   "outputs": [
    {
     "name": "stdout",
     "output_type": "stream",
     "text": [
      "Error:  division by zero\n"
     ]
    }
   ],
   "source": [
    "try:\n",
    "    divide = 1/0\n",
    "except Exception as e:\n",
    "    print('Error: ',e)"
   ]
  },
  {
   "cell_type": "markdown",
   "id": "f527663a",
   "metadata": {},
   "source": [
    "### Solution (4)\n",
    "1. try and else\n",
    "* If our try block succes then else will execute.\n",
    "2. finally\n",
    "* There is no matter whether there is error or not finally will always run its code.\n",
    "3. raise\n",
    "* Raise keyword is used to raise exceptions or errors.\n"
   ]
  },
  {
   "cell_type": "code",
   "execution_count": 8,
   "id": "27e6cf48",
   "metadata": {},
   "outputs": [
    {
     "name": "stdout",
     "output_type": "stream",
     "text": [
      "Enter your name: Anirudhra\n",
      "There is no error.\n"
     ]
    }
   ],
   "source": [
    "try:\n",
    "    name = input(\"Enter your name: \")\n",
    "except Exception as e:\n",
    "    print('Error:',e)\n",
    "else:\n",
    "    print('There is no error.')"
   ]
  },
  {
   "cell_type": "code",
   "execution_count": 9,
   "id": "e75fdd6e",
   "metadata": {},
   "outputs": [
    {
     "name": "stdout",
     "output_type": "stream",
     "text": [
      "Enter your name: Yash\n",
      "There is no error.\n",
      "Program runned successfully.\n"
     ]
    }
   ],
   "source": [
    "try:\n",
    "    name = input(\"Enter your name: \")\n",
    "except Exception as e:\n",
    "    print('Error:',e)\n",
    "else:\n",
    "    print('There is no error.')\n",
    "finally:\n",
    "    print('Program runned successfully.')"
   ]
  },
  {
   "cell_type": "code",
   "execution_count": null,
   "id": "34d0de23",
   "metadata": {},
   "outputs": [],
   "source": [
    "def validateage(age):\n",
    "    if age < 0:\n",
    "        raise VaidateAge(\"Age should not be lesser than zero.\")\n",
    "    elif age > 100:\n",
    "        raise VaidateAge(\"Age is to high\")\n",
    "    else:\n",
    "        print(\"Age is valid\")\n",
    "validateage(120)"
   ]
  },
  {
   "cell_type": "markdown",
   "id": "0c941772",
   "metadata": {},
   "source": [
    "### Solution (5) and Solution (6)\n",
    "* In Python, we can define custom exceptions by creating a new class that is derived from the built-in Exception class.\n",
    "* Sometimes python not understand error and it run continously and take input that it not required."
   ]
  },
  {
   "cell_type": "code",
   "execution_count": 1,
   "id": "5351fa56",
   "metadata": {},
   "outputs": [],
   "source": [
    "class ValidateName(Exception):\n",
    "    def __init__(self,msg):\n",
    "        self.msg = msg"
   ]
  },
  {
   "cell_type": "code",
   "execution_count": 2,
   "id": "4c4bfb88",
   "metadata": {},
   "outputs": [],
   "source": [
    "def validatename(name):\n",
    "    if name.islower():\n",
    "        raise ValidateName(\"Lower not accepted\")\n",
    "    else:\n",
    "        print('Success')"
   ]
  },
  {
   "cell_type": "code",
   "execution_count": 4,
   "id": "85249407",
   "metadata": {},
   "outputs": [
    {
     "name": "stdout",
     "output_type": "stream",
     "text": [
      "Enter your name: ANI\n",
      "Success\n"
     ]
    }
   ],
   "source": [
    "try:\n",
    "    name = input(\"Enter your name: \")\n",
    "    validatename(name)\n",
    "except validatename as e:\n",
    "    print(e)"
   ]
  },
  {
   "cell_type": "code",
   "execution_count": null,
   "id": "6c8232ae",
   "metadata": {},
   "outputs": [],
   "source": []
  }
 ],
 "metadata": {
  "kernelspec": {
   "display_name": "Python 3 (ipykernel)",
   "language": "python",
   "name": "python3"
  },
  "language_info": {
   "codemirror_mode": {
    "name": "ipython",
    "version": 3
   },
   "file_extension": ".py",
   "mimetype": "text/x-python",
   "name": "python",
   "nbconvert_exporter": "python",
   "pygments_lexer": "ipython3",
   "version": "3.11.1"
  }
 },
 "nbformat": 4,
 "nbformat_minor": 5
}
